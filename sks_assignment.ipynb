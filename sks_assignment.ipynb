{
 "cells": [
  {
   "cell_type": "code",
   "execution_count": null,
   "metadata": {
    "id": "V4OxraRs42nI"
   },
   "outputs": [],
   "source": [
    "import pandas as pd\n",
    "import re"
   ]
  },
  {
   "cell_type": "code",
   "execution_count": null,
   "metadata": {
    "id": "VarvuX555RTU"
   },
   "outputs": [],
   "source": [
    "data  = pd.read_csv('/content/coupons_ner.csv')\n",
    "data.columns = ['offerdetails']"
   ]
  },
  {
   "cell_type": "code",
   "execution_count": null,
   "metadata": {
    "colab": {
     "base_uri": "https://localhost:8080/",
     "height": 204
    },
    "id": "pGHo1EJq5XU2",
    "outputId": "82d01fbf-29e1-4986-92b4-9a856157108f"
   },
   "outputs": [
    {
     "data": {
      "text/html": [
       "<div>\n",
       "<style scoped>\n",
       "    .dataframe tbody tr th:only-of-type {\n",
       "        vertical-align: middle;\n",
       "    }\n",
       "\n",
       "    .dataframe tbody tr th {\n",
       "        vertical-align: top;\n",
       "    }\n",
       "\n",
       "    .dataframe thead th {\n",
       "        text-align: right;\n",
       "    }\n",
       "</style>\n",
       "<table border=\"1\" class=\"dataframe\">\n",
       "  <thead>\n",
       "    <tr style=\"text-align: right;\">\n",
       "      <th></th>\n",
       "      <th>offerdetails</th>\n",
       "    </tr>\n",
       "  </thead>\n",
       "  <tbody>\n",
       "    <tr>\n",
       "      <th>0</th>\n",
       "      <td>Save $2.00 ONE Tide PODS OR Tide Power PODS (e...</td>\n",
       "    </tr>\n",
       "    <tr>\n",
       "      <th>1</th>\n",
       "      <td>Save $2.00 ONE Tide Laundry Detergent (exclude...</td>\n",
       "    </tr>\n",
       "    <tr>\n",
       "      <th>2</th>\n",
       "      <td>SAVE $1.00 ON TWO when you buy TWO BOXES (8.9 ...</td>\n",
       "    </tr>\n",
       "    <tr>\n",
       "      <th>3</th>\n",
       "      <td>$3.00 OFF when you purchase any THREE (3) Pepp...</td>\n",
       "    </tr>\n",
       "    <tr>\n",
       "      <th>4</th>\n",
       "      <td>SAVE $1.11 when you buy any ONE (1) Familly Si...</td>\n",
       "    </tr>\n",
       "  </tbody>\n",
       "</table>\n",
       "</div>"
      ],
      "text/plain": [
       "                                        offerdetails\n",
       "0  Save $2.00 ONE Tide PODS OR Tide Power PODS (e...\n",
       "1  Save $2.00 ONE Tide Laundry Detergent (exclude...\n",
       "2  SAVE $1.00 ON TWO when you buy TWO BOXES (8.9 ...\n",
       "3  $3.00 OFF when you purchase any THREE (3) Pepp...\n",
       "4  SAVE $1.11 when you buy any ONE (1) Familly Si..."
      ]
     },
     "execution_count": 7,
     "metadata": {
      "tags": []
     },
     "output_type": "execute_result"
    }
   ],
   "source": [
    "data.head(5)"
   ]
  },
  {
   "cell_type": "code",
   "execution_count": null,
   "metadata": {
    "colab": {
     "base_uri": "https://localhost:8080/",
     "height": 34
    },
    "id": "GxowxX7M5Zk1",
    "outputId": "578a5a0a-3aed-4ec7-b3e3-896cb5701279"
   },
   "outputs": [
    {
     "data": {
      "text/plain": [
       "(885, 1)"
      ]
     },
     "execution_count": 8,
     "metadata": {
      "tags": []
     },
     "output_type": "execute_result"
    }
   ],
   "source": [
    "data.shape"
   ]
  },
  {
   "cell_type": "markdown",
   "metadata": {
    "id": "bBknha8pLyj-"
   },
   "source": [
    " - Here I am solving for two test caes. one is is for dollars and another is for cents.\n",
    " - Dollars always begin with the dollar symbol., so I am reading the text from dollar to symbol to next appeared space.\n",
    " - similarly cents will begin with the numerical value and end with cent symbol. So i am reading that value and I am converting back it to the dollars. "
   ]
  },
  {
   "cell_type": "code",
   "execution_count": null,
   "metadata": {
    "id": "C8fHK-a1PR5V"
   },
   "outputs": [],
   "source": [
    "def Predict_Offer_Price(offer):\n",
    "\n",
    "   dollar_matches = re.findall('\\$[0-9.]+', offer) # matching dollars\n",
    "   cents_matches  = re.findall('[0-9.]+\\¢', offer) # matching cents\n",
    "\n",
    "   if len(dollar_matches):\n",
    "     return dollar_matches[0]\n",
    "   elif len(cents_matches):\n",
    "     return '$'+str(int(cents_matches[0][:-1])*0.01)\n",
    "   else:\n",
    "     return \"\""
   ]
  },
  {
   "cell_type": "code",
   "execution_count": null,
   "metadata": {
    "id": "0DdAnqLX7a2j"
   },
   "outputs": [],
   "source": [
    "data['FaceValue'] = data['offerdetails'].apply(lambda x: Predict_Offer_Price(x))"
   ]
  },
  {
   "cell_type": "code",
   "execution_count": null,
   "metadata": {
    "colab": {
     "base_uri": "https://localhost:8080/",
     "height": 359
    },
    "id": "wGZbcOCCWsTu",
    "outputId": "a1d99de6-ff37-4ba9-d87c-34a7cb159180"
   },
   "outputs": [
    {
     "data": {
      "text/html": [
       "<div>\n",
       "<style scoped>\n",
       "    .dataframe tbody tr th:only-of-type {\n",
       "        vertical-align: middle;\n",
       "    }\n",
       "\n",
       "    .dataframe tbody tr th {\n",
       "        vertical-align: top;\n",
       "    }\n",
       "\n",
       "    .dataframe thead th {\n",
       "        text-align: right;\n",
       "    }\n",
       "</style>\n",
       "<table border=\"1\" class=\"dataframe\">\n",
       "  <thead>\n",
       "    <tr style=\"text-align: right;\">\n",
       "      <th></th>\n",
       "      <th>offerdetails</th>\n",
       "      <th>FaceValue</th>\n",
       "    </tr>\n",
       "  </thead>\n",
       "  <tbody>\n",
       "    <tr>\n",
       "      <th>875</th>\n",
       "      <td>SAVE $2.00 when you spend $6 on any Quaker Pro...</td>\n",
       "      <td>$2.00</td>\n",
       "    </tr>\n",
       "    <tr>\n",
       "      <th>876</th>\n",
       "      <td>SAVE $1.00 when you buy ONE (1) 28 oz.TRESemmé...</td>\n",
       "      <td>$1.00</td>\n",
       "    </tr>\n",
       "    <tr>\n",
       "      <th>877</th>\n",
       "      <td>SAVE $1.00 on DGH Auto Spray Refills Twin Packs</td>\n",
       "      <td>$1.00</td>\n",
       "    </tr>\n",
       "    <tr>\n",
       "      <th>878</th>\n",
       "      <td>SAVE $3.00 when you spend $10 on any Bayer Con...</td>\n",
       "      <td>$3.00</td>\n",
       "    </tr>\n",
       "    <tr>\n",
       "      <th>879</th>\n",
       "      <td>BUY TWO GET ONE Buy ONE (1) SOUR PATCH KIDS or...</td>\n",
       "      <td></td>\n",
       "    </tr>\n",
       "    <tr>\n",
       "      <th>880</th>\n",
       "      <td>SAVE $2.00 when you buy $7 worth of participat...</td>\n",
       "      <td>$2.00</td>\n",
       "    </tr>\n",
       "    <tr>\n",
       "      <th>881</th>\n",
       "      <td>SAVE $5.00 on any Gain scented purchase of $30...</td>\n",
       "      <td>$5.00</td>\n",
       "    </tr>\n",
       "    <tr>\n",
       "      <th>882</th>\n",
       "      <td>SAVE $1.00 when you buy any ONE (1) NEW AXE pr...</td>\n",
       "      <td>$1.00</td>\n",
       "    </tr>\n",
       "    <tr>\n",
       "      <th>883</th>\n",
       "      <td>BUY TWO GET ONE Buy ONE (1) CHIPS AHOY! Cookie...</td>\n",
       "      <td></td>\n",
       "    </tr>\n",
       "    <tr>\n",
       "      <th>884</th>\n",
       "      <td>SAVE $2.00 when you spend $6 on all Suave® pro...</td>\n",
       "      <td>$2.00</td>\n",
       "    </tr>\n",
       "  </tbody>\n",
       "</table>\n",
       "</div>"
      ],
      "text/plain": [
       "                                          offerdetails FaceValue\n",
       "875  SAVE $2.00 when you spend $6 on any Quaker Pro...     $2.00\n",
       "876  SAVE $1.00 when you buy ONE (1) 28 oz.TRESemmé...     $1.00\n",
       "877    SAVE $1.00 on DGH Auto Spray Refills Twin Packs     $1.00\n",
       "878  SAVE $3.00 when you spend $10 on any Bayer Con...     $3.00\n",
       "879  BUY TWO GET ONE Buy ONE (1) SOUR PATCH KIDS or...          \n",
       "880  SAVE $2.00 when you buy $7 worth of participat...     $2.00\n",
       "881  SAVE $5.00 on any Gain scented purchase of $30...     $5.00\n",
       "882  SAVE $1.00 when you buy any ONE (1) NEW AXE pr...     $1.00\n",
       "883  BUY TWO GET ONE Buy ONE (1) CHIPS AHOY! Cookie...          \n",
       "884  SAVE $2.00 when you spend $6 on all Suave® pro...     $2.00"
      ]
     },
     "execution_count": 100,
     "metadata": {
      "tags": []
     },
     "output_type": "execute_result"
    }
   ],
   "source": [
    "data.tail(10)"
   ]
  },
  {
   "cell_type": "code",
   "execution_count": null,
   "metadata": {
    "id": "ALNw4l0iT1h0"
   },
   "outputs": [],
   "source": []
  }
 ],
 "metadata": {
  "colab": {
   "collapsed_sections": [],
   "name": "sks_assignment.ipynb",
   "provenance": []
  },
  "kernelspec": {
   "display_name": "Python 3",
   "language": "python",
   "name": "python3"
  },
  "language_info": {
   "codemirror_mode": {
    "name": "ipython",
    "version": 3
   },
   "file_extension": ".py",
   "mimetype": "text/x-python",
   "name": "python",
   "nbconvert_exporter": "python",
   "pygments_lexer": "ipython3",
   "version": "3.6.5"
  }
 },
 "nbformat": 4,
 "nbformat_minor": 1
}
