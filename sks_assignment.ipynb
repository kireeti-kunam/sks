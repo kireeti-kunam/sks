{
  "nbformat": 4,
  "nbformat_minor": 0,
  "metadata": {
    "colab": {
      "name": "sks_assignment.ipynb",
      "provenance": [],
      "collapsed_sections": [],
      "authorship_tag": "ABX9TyP5caDDJ2ulknWN7yYQp2yd",
      "include_colab_link": true
    },
    "kernelspec": {
      "name": "python3",
      "display_name": "Python 3"
    }
  },
  "cells": [
    {
      "cell_type": "markdown",
      "metadata": {
        "id": "view-in-github",
        "colab_type": "text"
      },
      "source": [
        "<a href=\"https://colab.research.google.com/github/kireeti-kunam/sks/blob/master/sks_assignment.ipynb\" target=\"_parent\"><img src=\"https://colab.research.google.com/assets/colab-badge.svg\" alt=\"Open In Colab\"/></a>"
      ]
    },
    {
      "cell_type": "code",
      "metadata": {
        "id": "V4OxraRs42nI"
      },
      "source": [
        "import pandas as pd\n",
        "import re"
      ],
      "execution_count": 1,
      "outputs": []
    },
    {
      "cell_type": "code",
      "metadata": {
        "id": "VarvuX555RTU"
      },
      "source": [
        "data  = pd.read_csv('/content/coupons_ner.csv')\n",
        "data.columns = ['offerdetails']"
      ],
      "execution_count": 2,
      "outputs": []
    },
    {
      "cell_type": "code",
      "metadata": {
        "id": "pGHo1EJq5XU2",
        "outputId": "c0552357-6743-4572-a491-ca6fc2c6484e",
        "colab": {
          "base_uri": "https://localhost:8080/",
          "height": 204
        }
      },
      "source": [
        "data.head(5)"
      ],
      "execution_count": 3,
      "outputs": [
        {
          "output_type": "execute_result",
          "data": {
            "text/html": [
              "<div>\n",
              "<style scoped>\n",
              "    .dataframe tbody tr th:only-of-type {\n",
              "        vertical-align: middle;\n",
              "    }\n",
              "\n",
              "    .dataframe tbody tr th {\n",
              "        vertical-align: top;\n",
              "    }\n",
              "\n",
              "    .dataframe thead th {\n",
              "        text-align: right;\n",
              "    }\n",
              "</style>\n",
              "<table border=\"1\" class=\"dataframe\">\n",
              "  <thead>\n",
              "    <tr style=\"text-align: right;\">\n",
              "      <th></th>\n",
              "      <th>offerdetails</th>\n",
              "    </tr>\n",
              "  </thead>\n",
              "  <tbody>\n",
              "    <tr>\n",
              "      <th>0</th>\n",
              "      <td>Save $2.00 ONE Tide PODS OR Tide Power PODS (e...</td>\n",
              "    </tr>\n",
              "    <tr>\n",
              "      <th>1</th>\n",
              "      <td>Save $2.00 ONE Tide Laundry Detergent (exclude...</td>\n",
              "    </tr>\n",
              "    <tr>\n",
              "      <th>2</th>\n",
              "      <td>SAVE $1.00 ON TWO when you buy TWO BOXES (8.9 ...</td>\n",
              "    </tr>\n",
              "    <tr>\n",
              "      <th>3</th>\n",
              "      <td>$3.00 OFF when you purchase any THREE (3) Pepp...</td>\n",
              "    </tr>\n",
              "    <tr>\n",
              "      <th>4</th>\n",
              "      <td>SAVE $1.11 when you buy any ONE (1) Familly Si...</td>\n",
              "    </tr>\n",
              "  </tbody>\n",
              "</table>\n",
              "</div>"
            ],
            "text/plain": [
              "                                        offerdetails\n",
              "0  Save $2.00 ONE Tide PODS OR Tide Power PODS (e...\n",
              "1  Save $2.00 ONE Tide Laundry Detergent (exclude...\n",
              "2  SAVE $1.00 ON TWO when you buy TWO BOXES (8.9 ...\n",
              "3  $3.00 OFF when you purchase any THREE (3) Pepp...\n",
              "4  SAVE $1.11 when you buy any ONE (1) Familly Si..."
            ]
          },
          "metadata": {
            "tags": []
          },
          "execution_count": 3
        }
      ]
    },
    {
      "cell_type": "code",
      "metadata": {
        "id": "GxowxX7M5Zk1",
        "outputId": "17b7194f-8e64-4cca-ae48-28730b40460e",
        "colab": {
          "base_uri": "https://localhost:8080/",
          "height": 34
        }
      },
      "source": [
        "data.shape"
      ],
      "execution_count": 4,
      "outputs": [
        {
          "output_type": "execute_result",
          "data": {
            "text/plain": [
              "(885, 1)"
            ]
          },
          "metadata": {
            "tags": []
          },
          "execution_count": 4
        }
      ]
    },
    {
      "cell_type": "markdown",
      "metadata": {
        "id": "bBknha8pLyj-"
      },
      "source": [
        " - Here I am solving for two test caes. one is is for dollars and another is for cents.\n",
        " - Dollars always begin with the dollar symbol., so I am reading the text from dollar to symbol to next appeared space.\n",
        " - similarly cents will begin with the numerical value and end with cent symbol. So i am reading that value and I am converting back it to the dollars. "
      ]
    },
    {
      "cell_type": "code",
      "metadata": {
        "id": "C8fHK-a1PR5V"
      },
      "source": [
        "def Predict_Offer_Price(offer):\n",
        "\n",
        "   dollar_matches = re.findall('\\$[0-9.]+', offer) # matching dollars\n",
        "   cents_matches  = re.findall('[0-9.]+\\¢', offer) # matching cents\n",
        "\n",
        "   if len(dollar_matches):\n",
        "     return dollar_matches[0]\n",
        "   elif len(cents_matches):\n",
        "     return '$'+str(int(cents_matches[0][:-1])*0.01)\n",
        "   else:\n",
        "     return \"\""
      ],
      "execution_count": 5,
      "outputs": []
    },
    {
      "cell_type": "code",
      "metadata": {
        "id": "0DdAnqLX7a2j"
      },
      "source": [
        "data['FaceValue'] = data['offerdetails'].apply(lambda x: Predict_Offer_Price(x))"
      ],
      "execution_count": 6,
      "outputs": []
    },
    {
      "cell_type": "code",
      "metadata": {
        "id": "wGZbcOCCWsTu",
        "outputId": "baf9f7ab-4e65-4bee-f56a-8ba2c4ccda41",
        "colab": {
          "base_uri": "https://localhost:8080/",
          "height": 221
        }
      },
      "source": [
        "data.FaceValue"
      ],
      "execution_count": 8,
      "outputs": [
        {
          "output_type": "execute_result",
          "data": {
            "text/plain": [
              "0      $2.00\n",
              "1      $2.00\n",
              "2      $1.00\n",
              "3      $3.00\n",
              "4      $1.11\n",
              "       ...  \n",
              "880    $2.00\n",
              "881    $5.00\n",
              "882    $1.00\n",
              "883         \n",
              "884    $2.00\n",
              "Name: FaceValue, Length: 885, dtype: object"
            ]
          },
          "metadata": {
            "tags": []
          },
          "execution_count": 8
        }
      ]
    },
    {
      "cell_type": "code",
      "metadata": {
        "id": "ALNw4l0iT1h0"
      },
      "source": [
        ""
      ],
      "execution_count": null,
      "outputs": []
    }
  ]
}